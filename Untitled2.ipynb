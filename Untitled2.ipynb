{
  "metadata": {
    "kernelspec": {
      "name": "xcpp17",
      "display_name": "C++17",
      "language": "cpp"
    },
    "language_info": {
      "codemirror_mode": "text/x-c++src",
      "file_extension": ".cpp",
      "mimetype": "text/x-c++src",
      "name": "C++",
      "version": "17"
    }
  },
  "nbformat_minor": 5,
  "nbformat": 4,
  "cells": [
    {
      "id": "530338b7-0bdc-40fc-a6c9-f91d9831c225",
      "cell_type": "code",
      "source": "import pandas as pd\nimport matplotlib.pyplot as plt\nimport seaborn as sns\nimport numpy as np\nimport ipywidgets as widgets\nfrom IPython.display import display\n\nstress_df = pd.read_csv('StressLevelDataset.csv')\nstress_level_df = pd.read_csv('StressLevelDataset.csv')\nstress_df = stress_df.iloc[:, 2:-1] \nall_values = stress_df.values.flatten()\nall_values = all_values[~np.isnan(all_values)]\ntop_60_threshold = np.percentile(all_values, 60)   \nbottom_40_threshold = np.percentile(all_values, 40)  \n\n\ntop_60_df = stress_df[(stress_df > top_60_threshold).any(axis=1)]\nbottom_40_df = stress_df[(stress_df < bottom_40_threshold).any(axis=1)]\n\ndef plot_heatmap(option):\n    plt.figure(figsize=(12, 8))\n    \n    if option == 'Normal':\n        sns.heatmap(stress_level_df.corr(), annot=True, cmap='coolwarm', fmt='.2f')\n        plt.title('StressLevelDataset.csv')\n    \n    elif option == 'Top 40% Values':\n        sns.heatmap(top_60_df.corr(), annot=True, cmap='coolwarm', center=0, fmt='.2f')\n        plt.title(f'Stress level - Top 40% Values')\n    \n    elif option == 'Bottom 40% Values':\n        sns.heatmap(bottom_40_df.corr(), annot=True, cmap='coolwarm', center=0, fmt='.2f')\n        plt.title(f'Stress level - Bottom 40% Values')\n    \n    plt.tight_layout()\n    plt.show()\n\n# === Create dropdown for interactivity ===\ndropdown = widgets.Dropdown(\n    options=['Normal', 'Top 60% Values', 'Bottom 40% Values'],\n    value='Normal',\n    description='Select view:'\n)\n\n# === Connect dropdown to plot ===\nwidgets.interact(plot_heatmap, option=dropdown)",
      "metadata": {
        "trusted": true
      },
      "outputs": [],
      "execution_count": null
    }
  ]
}